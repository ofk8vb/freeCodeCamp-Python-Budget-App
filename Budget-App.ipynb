{
 "cells": [
  {
   "cell_type": "code",
   "execution_count": null,
   "metadata": {},
   "outputs": [],
   "source": [
    "# Assignment\n",
    "# Complete the Category class in budget.py. It should be able to instantiate objects based on different budget categories like food, clothing, and entertainment. When objects are created, they are passed in the name of the category. The class should have an instance variable called ledger that is a list. The class should also contain the following methods:\n",
    "\n",
    "# A deposit method that accepts an amount and description. If no description is given, it should default to an empty string. The method should append an object to the ledger list in the form of {\"amount\": amount, \"description\": description}.\n",
    "# A withdraw method that is similar to the deposit method, but the amount passed in should be stored in the ledger as a negative number. If there are not enough funds, nothing should be added to the ledger. This method should return True if the withdrawal took place, and False otherwise.\n",
    "# A get_balance method that returns the current balance of the budget category based on the deposits and withdrawals that have occurred.\n",
    "# A transfer method that accepts an amount and another budget category as arguments. The method should add a withdrawal with the amount and the description \"Transfer to [Destination Budget Category]\". The method should then add a deposit to the other budget category with the amount and the description \"Transfer from [Source Budget Category]\". If there are not enough funds, nothing should be added to either ledgers. This method should return True if the transfer took place, and False otherwise.\n",
    "# A check_funds method that accepts an amount as an argument. It returns False if the amount is greater than the balance of the budget category and returns True otherwise. This method should be used by both the withdraw method and transfer method.\n",
    "# When the budget object is printed it should display:\n",
    "\n",
    "# A title line of 30 characters where the name of the category is centered in a line of * characters.\n",
    "# A list of the items in the ledger. Each line should show the description and amount. The first 23 characters of the description should be displayed, then the amount. The amount should be right aligned, contain two decimal places, and display a maximum of 7 characters.\n",
    "# A line displaying the category total.\n",
    "# Here is an example of the output:\n",
    "\n",
    "# *************Food*************\n",
    "# initial deposit        1000.00\n",
    "# groceries               -10.15\n",
    "# restaurant and more foo -15.89\n",
    "# Transfer to Clothing    -50.00\n",
    "# Total: 923.96\n",
    "# *************Food*************\n",
    "# initial deposit        1000.00\n",
    "# groceries               -10.15\n",
    "# restaurant and more foo -15.89\n",
    "# Transfer to Clothing    -50.00\n",
    "# Total: 923.96\n",
    "# Besides the Category class, create a function (outside of the class) called create_spend_chart that takes a list of categories as an argument. It should return a string that is a bar chart.\n",
    "\n",
    "# The chart should show the percentage spent in each category passed in to the function. The percentage spent should be calculated only with withdrawals and not with deposits. Down the left side of the chart should be labels 0 - 100. The \"bars\" in the bar chart should be made out of the \"o\" character. The height of each bar should be rounded down to the nearest 10. The horizontal line below the bars should go two spaces past the final bar. Each category name should be written vertically below the bar. There should be a title at the top that says \"Percentage spent by category\".\n",
    "\n",
    "# This function will be tested with up to four categories.\n",
    "\n",
    "# Look at the example output below very closely and make sure the spacing of the output matches the example exactly.\n",
    "\n",
    "# Percentage spent by category\n",
    "# 100|          \n",
    "#  90|          \n",
    "#  80|          \n",
    "#  70|          \n",
    "#  60| o        \n",
    "#  50| o        \n",
    "#  40| o        \n",
    "#  30| o        \n",
    "#  20| o  o     \n",
    "#  10| o  o  o  \n",
    "#   0| o  o  o  \n",
    "#     ----------\n",
    "#      F  C  A  \n",
    "#      o  l  u  \n",
    "#      o  o  t  \n",
    "#      d  t  o  \n",
    "#         h     \n",
    "#         i     \n",
    "#         n     \n",
    "#         g     \n",
    "# Percentage spent by category\n",
    "# 100|          \n",
    "#  90|          \n",
    "#  80|          \n",
    "#  70|          \n",
    "#  60| o        \n",
    "#  50| o        \n",
    "#  40| o        \n",
    "#  30| o        \n",
    "#  20| o  o     \n",
    "#  10| o  o  o  \n",
    "#   0| o  o  o  \n",
    "#     ----------\n",
    "#      F  C  A  \n",
    "#      o  l  u  \n",
    "#      o  o  t  \n",
    "#      d  t  o  \n",
    "#         h     \n",
    "#         i     \n",
    "#         n     \n",
    "#         g     \n",
    "# The unit tests for this project are in test_module.py.\n",
    "\n",
    "# Development\n",
    "# Write your code in budget.py. For development, you can use main.py to test your Category class. Click the \"run\" button and main.py will run.\n",
    "\n",
    "# Testing\n",
    "# We imported the tests from test_module.py to main.py for your convenience. The tests will run automatically whenever you hit the \"run\" button.\n",
    "\n",
    "# Submitting\n",
    "# Copy your project's URL and submit it to freeCodeCamp."
   ]
  },
  {
   "cell_type": "code",
   "execution_count": 1,
   "metadata": {},
   "outputs": [],
   "source": [
    "# category name should be passed into constructor\n",
    "# instance variable called ledger that is a list\n",
    "# methods deposit, withdraw, get_balance, transfer, check_funds\n",
    "# when printed there should be special method def __str__\n",
    "# seperate function outside of Category class called create_spend_chart"
   ]
  },
  {
   "cell_type": "code",
   "execution_count": 74,
   "metadata": {},
   "outputs": [],
   "source": [
    "class Category:\n",
    "    def __init__(self,name):\n",
    "        self.name=name\n",
    "        self.ledger=[]\n",
    "        \n",
    "    def deposit(self,amount,description=''):\n",
    "        self.ledger.append({\"amount\":amount,\"description\":description})\n",
    "    \n",
    "    def withdraw(self,amount,description=''):\n",
    "        # I should check if there are enough funds to perform this withdrawal before appending\n",
    "        # fund checker could be a reusable function\n",
    "        if self.check_funds(amount):\n",
    "            self.ledger.append({\"amount\":amount*-1,\"description\":description})\n",
    "            return True\n",
    "        else:\n",
    "            return False\n",
    "        \n",
    "    def get_balance(self):\n",
    "        # logic that will return the current balance after getting the total amount in ledger\n",
    "        balance = 0\n",
    "        for transaction in self.ledger:\n",
    "            balance = balance + transaction['amount']\n",
    "        return balance\n",
    "            \n",
    "    def transfer(self,amount,category):\n",
    "            \n",
    "        if self.check_funds(amount):\n",
    "            description_for_withdrawal = 'Transfer to {}'.format(category.name)\n",
    "            self.withdraw(amount,description_for_withdrawal)\n",
    "            description_for_deposit = 'Transfer from {}'.format(self.name)\n",
    "            category.deposit(amount,description_for_deposit)\n",
    "            return True\n",
    "        else:\n",
    "            return False\n",
    "     \n",
    "    def check_funds(self,amount):\n",
    "        # returns False if the amount argument is greater than the current balance\n",
    "        # returns True if the amount argument is less than the current balance\n",
    "        balance = self.get_balance()\n",
    "        if amount > balance:\n",
    "            return False\n",
    "        else:\n",
    "            return True\n",
    "        \n",
    "    def __str__(self):\n",
    "        s=''\n",
    "        s+=self.name.center(30,'*')+'\\n'\n",
    "        for x in self.ledger:\n",
    "            if len(x['description'])>23:\n",
    "                s+=x['description'][0:23]\n",
    "            else:\n",
    "                s+=x['description'][0:23].ljust(23)\n",
    "            s+=\"{0:.2f}\".format(x['amount']).rjust(7)\n",
    "            s+='\\n'\n",
    "        s+='Total: {}'.format(self.get_balance())\n",
    "        return s\n",
    "\n",
    "    def get_withdrawls(self):\n",
    "        total = 0\n",
    "        for item in self.ledger:\n",
    "            if item[\"amount\"] < 0:\n",
    "                total+= item[\"amount\"]\n",
    "        return total\n",
    "\n",
    "def truncate(n):\n",
    "    multiplier = 10\n",
    "    return int(n * multiplier) / multiplier\n",
    "\n",
    "def getTotals(categories):\n",
    "    total = 0\n",
    "    breakdown = []\n",
    "    for category in categories:\n",
    "        total += category.get_withdrawls()\n",
    "        breakdown.append(category.get_withdrawls())\n",
    "    \n",
    "    rounded = list(map(lambda x: truncate(x/total), breakdown))\n",
    "    return rounded\n",
    "\n",
    "def get_withdrawls(self):\n",
    "        total = 0\n",
    "        for item in self.ledger:\n",
    "            if item[\"amount\"] < 0:\n",
    "                total+= item[\"amount\"]\n",
    "        return total\n",
    "    \n",
    "def create_spend_chart(categories):\n",
    "    res = \"Percentage spent by category\\n\"\n",
    "    i = 100\n",
    "    totals = getTotals(categories)\n",
    "    while i >= 0:\n",
    "        cat_spaces = \" \"\n",
    "        for total in totals:\n",
    "            if total * 100 >= i:\n",
    "                cat_spaces += \"o  \"\n",
    "                #print(categories[totals.index(total)].name)\n",
    "            else:\n",
    "                cat_spaces += \"   \"\n",
    "        res+= str(i).rjust(3) + \"|\" + cat_spaces + (\"\\n\")\n",
    "        i-=10\n",
    "    \n",
    "    dashes = \"-\" + \"---\"*len(categories)\n",
    "    names = []\n",
    "    x_axis = \"\"\n",
    "    for category in categories:\n",
    "        names.append(category.name)\n",
    "\n",
    "    maxi = max(names, key=len)\n",
    "\n",
    "    for x in range(len(maxi)):\n",
    "        nameStr = '     '\n",
    "        for name in names:\n",
    "            if x >= len(name):\n",
    "                nameStr += \"   \"\n",
    "            else:\n",
    "                nameStr += name[x] + \"  \"\n",
    "        nameStr += '\\n'\n",
    "        x_axis += nameStr\n",
    "\n",
    "    res+= dashes.rjust(len(dashes)+4) + \"\\n\" + x_axis\n",
    "    size = len(res)\n",
    "    res = res[:size - 1]\n",
    "    return res\n",
    "#         Percentage spent by category\n",
    "#     100|          \n",
    "#      90|          \n",
    "#      80|          \n",
    "#      70|          \n",
    "#      60| o        \n",
    "#      50| o        \n",
    "#      40| o        \n",
    "#      30| o        \n",
    "#      20| o  o     \n",
    "#      10| o  o  o  \n",
    "#       0| o  o  o  \n",
    "#         ----------\n",
    "#          F  C  A  \n",
    "#          o  l  u  \n",
    "#          o  o  t  \n",
    "#          d  t  o  \n",
    "#             h     \n",
    "#             i     \n",
    "#             n     \n",
    "#             g     \n",
    "    \n",
    "        "
   ]
  },
  {
   "cell_type": "code",
   "execution_count": 75,
   "metadata": {},
   "outputs": [],
   "source": [
    "food = Category('Food')\n",
    "entertainment = Category('Entertainment')\n",
    "business= Category('Business')\n",
    "food.deposit(900, \"deposit\")\n",
    "entertainment.deposit(900, \"deposit\")\n",
    "business.deposit(900, \"deposit\")\n",
    "food.withdraw(105.55)\n",
    "entertainment.withdraw(33.40)\n",
    "business.withdraw(10.99)\n",
    "actual = create_spend_chart([business,food,entertainment])\n",
    "expected = \"Percentage spent by category\\n100|          \\n 90|          \\n 80|          \\n 70|    o     \\n 60|    o     \\n 50|    o     \\n 40|    o     \\n 30|    o     \\n 20|    o  o  \\n 10|    o  o  \\n  0| o  o  o  \\n    ----------\\n     B  F  E  \\n     u  o  n  \\n     s  o  t  \\n     i  d  e  \\n     n     r  \\n     e     t  \\n     s     a  \\n     s     i  \\n           n  \\n           m  \\n           e  \\n           n  \\n           t  \""
   ]
  },
  {
   "cell_type": "code",
   "execution_count": 76,
   "metadata": {},
   "outputs": [
    {
     "data": {
      "text/plain": [
       "'Percentage spent by category\\n100|          \\n 90|          \\n 80|          \\n 70|    o     \\n 60|    o     \\n 50|    o     \\n 40|    o     \\n 30|    o     \\n 20|    o  o  \\n 10|    o  o  \\n  0| o  o  o  \\n    ----------\\n     B  F  E  \\n     u  o  n  \\n     s  o  t  \\n     i  d  e  \\n     n     r  \\n     e     t  \\n     s     a  \\n     s     i  \\n           n  \\n           m  \\n           e  \\n           n  \\n           t  '"
      ]
     },
     "execution_count": 76,
     "metadata": {},
     "output_type": "execute_result"
    }
   ],
   "source": [
    "actual"
   ]
  },
  {
   "cell_type": "code",
   "execution_count": 77,
   "metadata": {},
   "outputs": [
    {
     "data": {
      "text/plain": [
       "'Percentage spent by category\\n100|          \\n 90|          \\n 80|          \\n 70|    o     \\n 60|    o     \\n 50|    o     \\n 40|    o     \\n 30|    o     \\n 20|    o  o  \\n 10|    o  o  \\n  0| o  o  o  \\n    ----------\\n     B  F  E  \\n     u  o  n  \\n     s  o  t  \\n     i  d  e  \\n     n     r  \\n     e     t  \\n     s     a  \\n     s     i  \\n           n  \\n           m  \\n           e  \\n           n  \\n           t  '"
      ]
     },
     "execution_count": 77,
     "metadata": {},
     "output_type": "execute_result"
    }
   ],
   "source": [
    "expected"
   ]
  },
  {
   "cell_type": "code",
   "execution_count": 43,
   "metadata": {},
   "outputs": [
    {
     "data": {
      "text/plain": [
       "{'amount': -20, 'description': 'Transfer to Entertainment'}"
      ]
     },
     "execution_count": 43,
     "metadata": {},
     "output_type": "execute_result"
    }
   ],
   "source": []
  },
  {
   "cell_type": "code",
   "execution_count": 44,
   "metadata": {},
   "outputs": [
    {
     "data": {
      "text/plain": [
       "{'amount': 20, 'description': 'Transfer from Food'}"
      ]
     },
     "execution_count": 44,
     "metadata": {},
     "output_type": "execute_result"
    }
   ],
   "source": []
  },
  {
   "cell_type": "code",
   "execution_count": 33,
   "metadata": {},
   "outputs": [
    {
     "name": "stderr",
     "output_type": "stream",
     "text": [
      "E\n",
      "======================================================================\n",
      "ERROR: C:\\Users\\User\\AppData\\Roaming\\jupyter\\runtime\\kernel-c678ee40-dd8c-490a-9648-d614d3f8829f (unittest.loader._FailedTest)\n",
      "----------------------------------------------------------------------\n",
      "AttributeError: module '__main__' has no attribute 'C:\\Users\\User\\AppData\\Roaming\\jupyter\\runtime\\kernel-c678ee40-dd8c-490a-9648-d614d3f8829f'\n",
      "\n",
      "----------------------------------------------------------------------\n",
      "Ran 1 test in 0.001s\n",
      "\n",
      "FAILED (errors=1)\n"
     ]
    },
    {
     "ename": "SystemExit",
     "evalue": "True",
     "output_type": "error",
     "traceback": [
      "An exception has occurred, use %tb to see the full traceback.\n",
      "\u001b[1;31mSystemExit\u001b[0m\u001b[1;31m:\u001b[0m True\n"
     ]
    },
    {
     "name": "stderr",
     "output_type": "stream",
     "text": [
      "C:\\Users\\User\\anaconda3\\lib\\site-packages\\IPython\\core\\interactiveshell.py:3426: UserWarning: To exit: use 'exit', 'quit', or Ctrl-D.\n",
      "  warn(\"To exit: use 'exit', 'quit', or Ctrl-D.\", stacklevel=1)\n"
     ]
    }
   ],
   "source": [
    "class UnitTests(unittest.TestCase):\n",
    "    def setUp(self):\n",
    "        self.food = budget.Category(\"Food\")\n",
    "        self.entertainment = budget.Category(\"Entertainment\")\n",
    "        self.business = budget.Category(\"Business\")\n",
    "\n",
    "    def test_transfer(self):\n",
    "        self.food.deposit(900, \"deposit\")\n",
    "        self.food.withdraw(45.67, \"milk, cereal, eggs, bacon, bread\")\n",
    "        good_transfer = self.food.transfer(20, self.entertainment)\n",
    "        actual = self.food.ledger[2]\n",
    "        expected = {\"amount\": -20, \"description\": \"Transfer to Entertainment\"}\n",
    "        self.assertEqual(actual, expected, 'Expected `transfer` method to create a specific ledger item in food object.')\n",
    "        self.assertEqual(good_transfer, True, 'Expected `transfer` method to return `True`.')\n",
    "        actual = self.entertainment.ledger[0]\n",
    "        expected = {\"amount\": 20, \"description\": \"Transfer from Food\"}\n",
    "        self.assertEqual(actual, expected, 'Expected `transfer` method to create a specific ledger item in entertainment object.')\n",
    "\n",
    "    def test_to_string(self):\n",
    "        self.food.deposit(900, \"deposit\")\n",
    "        self.food.withdraw(45.67, \"milk, cereal, eggs, bacon, bread\")\n",
    "        self.food.transfer(20, self.entertainment)\n",
    "        actual = str(self.food)\n",
    "        expected = f\"*************Food*************\\ndeposit                 900.00\\nmilk, cereal, eggs, bac -45.67\\nTransfer to Entertainme -20.00\\nTotal: 834.33\"\n",
    "        self.assertEqual(actual, expected, 'Expected different string representation of object.')\n",
    "\n",
    "    def test_create_spend_chart(self):\n",
    "        self.food.deposit(900, \"deposit\")\n",
    "        self.entertainment.deposit(900, \"deposit\")\n",
    "        self.business.deposit(900, \"deposit\")\n",
    "        self.food.withdraw(105.55)\n",
    "        self.entertainment.withdraw(33.40)\n",
    "        self.business.withdraw(10.99)\n",
    "        actual = create_spend_chart([self.business, self.food, self.entertainment])\n",
    "        expected = \"Percentage spent by category\\n100|          \\n 90|          \\n 80|          \\n 70|    o     \\n 60|    o     \\n 50|    o     \\n 40|    o     \\n 30|    o     \\n 20|    o  o  \\n 10|    o  o  \\n  0| o  o  o  \\n    ----------\\n     B  F  E  \\n     u  o  n  \\n     s  o  t  \\n     i  d  e  \\n     n     r  \\n     e     t  \\n     s     a  \\n     s     i  \\n           n  \\n           m  \\n           e  \\n           n  \\n           t  \"\n",
    "        self.assertEqual(actual, expected, 'Expected different chart representation. Check that all spacing is exact.')\n",
    "if __name__ == \"__main__\":\n",
    "    unittest.main()"
   ]
  },
  {
   "cell_type": "code",
   "execution_count": 34,
   "metadata": {},
   "outputs": [
    {
     "ename": "ModuleNotFoundError",
     "evalue": "No module named 'test_module'",
     "output_type": "error",
     "traceback": [
      "\u001b[1;31m---------------------------------------------------------------------------\u001b[0m",
      "\u001b[1;31mModuleNotFoundError\u001b[0m                       Traceback (most recent call last)",
      "\u001b[1;32m<ipython-input-34-7edb3e725d46>\u001b[0m in \u001b[0;36m<module>\u001b[1;34m\u001b[0m\n\u001b[1;32m----> 1\u001b[1;33m \u001b[0mmain\u001b[0m\u001b[1;33m(\u001b[0m\u001b[0mmodule\u001b[0m\u001b[1;33m=\u001b[0m\u001b[1;34m'test_module'\u001b[0m\u001b[1;33m,\u001b[0m \u001b[0mexit\u001b[0m\u001b[1;33m=\u001b[0m\u001b[1;32mFalse\u001b[0m\u001b[1;33m)\u001b[0m\u001b[1;33m\u001b[0m\u001b[1;33m\u001b[0m\u001b[0m\n\u001b[0m",
      "\u001b[1;32m~\\anaconda3\\lib\\unittest\\main.py\u001b[0m in \u001b[0;36m__init__\u001b[1;34m(self, module, defaultTest, argv, testRunner, testLoader, exit, verbosity, failfast, catchbreak, buffer, warnings, tb_locals)\u001b[0m\n\u001b[0;32m     68\u001b[0m                     buffer=None, warnings=None, *, tb_locals=False):\n\u001b[0;32m     69\u001b[0m         \u001b[1;32mif\u001b[0m \u001b[0misinstance\u001b[0m\u001b[1;33m(\u001b[0m\u001b[0mmodule\u001b[0m\u001b[1;33m,\u001b[0m \u001b[0mstr\u001b[0m\u001b[1;33m)\u001b[0m\u001b[1;33m:\u001b[0m\u001b[1;33m\u001b[0m\u001b[1;33m\u001b[0m\u001b[0m\n\u001b[1;32m---> 70\u001b[1;33m             \u001b[0mself\u001b[0m\u001b[1;33m.\u001b[0m\u001b[0mmodule\u001b[0m \u001b[1;33m=\u001b[0m \u001b[0m__import__\u001b[0m\u001b[1;33m(\u001b[0m\u001b[0mmodule\u001b[0m\u001b[1;33m)\u001b[0m\u001b[1;33m\u001b[0m\u001b[1;33m\u001b[0m\u001b[0m\n\u001b[0m\u001b[0;32m     71\u001b[0m             \u001b[1;32mfor\u001b[0m \u001b[0mpart\u001b[0m \u001b[1;32min\u001b[0m \u001b[0mmodule\u001b[0m\u001b[1;33m.\u001b[0m\u001b[0msplit\u001b[0m\u001b[1;33m(\u001b[0m\u001b[1;34m'.'\u001b[0m\u001b[1;33m)\u001b[0m\u001b[1;33m[\u001b[0m\u001b[1;36m1\u001b[0m\u001b[1;33m:\u001b[0m\u001b[1;33m]\u001b[0m\u001b[1;33m:\u001b[0m\u001b[1;33m\u001b[0m\u001b[1;33m\u001b[0m\u001b[0m\n\u001b[0;32m     72\u001b[0m                 \u001b[0mself\u001b[0m\u001b[1;33m.\u001b[0m\u001b[0mmodule\u001b[0m \u001b[1;33m=\u001b[0m \u001b[0mgetattr\u001b[0m\u001b[1;33m(\u001b[0m\u001b[0mself\u001b[0m\u001b[1;33m.\u001b[0m\u001b[0mmodule\u001b[0m\u001b[1;33m,\u001b[0m \u001b[0mpart\u001b[0m\u001b[1;33m)\u001b[0m\u001b[1;33m\u001b[0m\u001b[1;33m\u001b[0m\u001b[0m\n",
      "\u001b[1;31mModuleNotFoundError\u001b[0m: No module named 'test_module'"
     ]
    }
   ],
   "source": [
    "main(module='test_module', exit=False)"
   ]
  },
  {
   "cell_type": "code",
   "execution_count": 152,
   "metadata": {},
   "outputs": [],
   "source": [
    "# ======================================================================\n",
    "# FAIL: test_transfer (test_module.UnitTests)\n",
    "# ----------------------------------------------------------------------\n",
    "# Traceback (most recent call last):\n",
    "#   File \"/home/runner/boilerplate-budget-app-1/test_module.py\", line 52, in test_transfer\n",
    "#     self.assertEqual(actual, expected, 'Expected `transfer` method to create a specific ledger item in food object.')\n",
    "# AssertionError: {'amount': -20, 'description': 'Transfer to Food'} != {'amount': -20, 'description': 'Transfer to Entertainment'}\n",
    "# - {'amount': -20, 'description': 'Transfer to Food'}\n",
    "# ?                                             ^^^^\n",
    "\n",
    "# + {'amount': -20, 'description': 'Transfer to Entertainment'}\n",
    "# ?                                             ^^^^^^^^^^^^^\n",
    "#  : Expected `transfer` method to create a specific ledger item in food object.\n",
    "\n",
    "# ----------------------------------------------------------------------\n",
    "# Ran 11 tests in 0.003s"
   ]
  },
  {
   "cell_type": "code",
   "execution_count": 153,
   "metadata": {},
   "outputs": [
    {
     "data": {
      "text/plain": [
       "<__main__.Category at 0x270efe9d0d0>"
      ]
     },
     "execution_count": 153,
     "metadata": {},
     "output_type": "execute_result"
    }
   ],
   "source": [
    "# ======================================================================\n",
    "# FAIL: test_create_spend_chart (test_module.UnitTests)\n",
    "# ----------------------------------------------------------------------\n",
    "# Traceback (most recent call last):\n",
    "#   File \"/home/runner/boilerplate-budget-app-1/test_module.py\", line 94, in test_create_spend_chart\n",
    "#     self.assertEqual(actual, expected, 'Expected different chart representation. Check that all spacing is exact.')\n",
    "# AssertionError: 'Perc[364 chars]         m  \\n           e  \\n           n  \\n           t  \\n' != 'Perc[364 chars]         m  \\n           e  \\n           n  \\n           t  '\n",
    "#   Percentage spent by category\n",
    "#   100|          \n",
    "#    90|          \n",
    "#    80|          \n",
    "#    70|    o     \n",
    "#    60|    o     \n",
    "#    50|    o     \n",
    "#    40|    o     \n",
    "#    30|    o     \n",
    "#    20|    o  o  \n",
    "#    10|    o  o  \n",
    "#     0| o  o  o  \n",
    "#       ----------\n",
    "#        B  F  E  \n",
    "#        u  o  n  \n",
    "#        s  o  t  \n",
    "#        i  d  e  \n",
    "#        n     r  \n",
    "#        e     t  \n",
    "#        s     a  \n",
    "#        s     i  \n",
    "#              n  \n",
    "#              m  \n",
    "#              e  \n",
    "#              n  \n",
    "# -            t  \n",
    "# ?               -\n",
    "# +            t   : Expected different chart representation. Check that all spacing is exact.\n",
    "\n",
    "# ======================================================================\n",
    "# FAIL: test_to_string (test_module.UnitTests)\n",
    "# ----------------------------------------------------------------------\n",
    "# Traceback (most recent call last):\n",
    "#   File \"/home/runner/boilerplate-budget-app-1/test_module.py\", line 83, in test_to_string\n",
    "#     self.assertEqual(actual, expected, 'Expected different string representation of object.')\n",
    "# AssertionError: '****[46 chars]     \\nmilk, cereal, eggs, bac\\nTransfer to Fo[20 chars]4.33' != '****[46 chars]      900.00\\nmilk, cereal, eggs, bac -45.67\\n[41 chars]4.33'\n",
    "#   *************Food*************\n",
    "# - deposit                \n",
    "# + deposit                 900.00\n",
    "# ?                        +++++++\n",
    "# - milk, cereal, eggs, bac\n",
    "# + milk, cereal, eggs, bac -45.67\n",
    "# ?                        +++++++\n",
    "# - Transfer to Food       \n",
    "# + Transfer to Entertainme -20.00\n",
    "#   Total: 834.33 : Expected different string representation of object.\n",
    "\n"
   ]
  },
  {
   "cell_type": "code",
   "execution_count": 145,
   "metadata": {},
   "outputs": [
    {
     "data": {
      "text/plain": [
       "10"
      ]
     },
     "execution_count": 145,
     "metadata": {},
     "output_type": "execute_result"
    }
   ],
   "source": []
  },
  {
   "cell_type": "code",
   "execution_count": 154,
   "metadata": {},
   "outputs": [
    {
     "data": {
      "text/plain": [
       "True"
      ]
     },
     "execution_count": 154,
     "metadata": {},
     "output_type": "execute_result"
    }
   ],
   "source": []
  },
  {
   "cell_type": "code",
   "execution_count": 60,
   "metadata": {},
   "outputs": [
    {
     "data": {
      "text/plain": [
       "5"
      ]
     },
     "execution_count": 60,
     "metadata": {},
     "output_type": "execute_result"
    }
   ],
   "source": []
  },
  {
   "cell_type": "code",
   "execution_count": 120,
   "metadata": {},
   "outputs": [
    {
     "data": {
      "text/plain": [
       "False"
      ]
     },
     "execution_count": 120,
     "metadata": {},
     "output_type": "execute_result"
    }
   ],
   "source": []
  },
  {
   "cell_type": "code",
   "execution_count": 62,
   "metadata": {},
   "outputs": [
    {
     "data": {
      "text/plain": [
       "5"
      ]
     },
     "execution_count": 62,
     "metadata": {},
     "output_type": "execute_result"
    }
   ],
   "source": []
  },
  {
   "cell_type": "code",
   "execution_count": 155,
   "metadata": {},
   "outputs": [],
   "source": []
  },
  {
   "cell_type": "code",
   "execution_count": 156,
   "metadata": {},
   "outputs": [
    {
     "data": {
      "text/plain": [
       "True"
      ]
     },
     "execution_count": 156,
     "metadata": {},
     "output_type": "execute_result"
    }
   ],
   "source": []
  },
  {
   "cell_type": "code",
   "execution_count": 157,
   "metadata": {},
   "outputs": [
    {
     "data": {
      "text/plain": [
       "3"
      ]
     },
     "execution_count": 157,
     "metadata": {},
     "output_type": "execute_result"
    }
   ],
   "source": []
  },
  {
   "cell_type": "code",
   "execution_count": 100,
   "metadata": {},
   "outputs": [
    {
     "data": {
      "text/plain": [
       "[{'amount': 10, 'description': 'test 1'},\n",
       " {'amount': -5, 'description': 'test withdraw 1'},\n",
       " {'amount': -2, 'description': 'Transfer to food'}]"
      ]
     },
     "execution_count": 100,
     "metadata": {},
     "output_type": "execute_result"
    }
   ],
   "source": []
  },
  {
   "cell_type": "code",
   "execution_count": 101,
   "metadata": {},
   "outputs": [
    {
     "data": {
      "text/plain": [
       "[{'amount': 2, 'description': 'Transfer to school'}]"
      ]
     },
     "execution_count": 101,
     "metadata": {},
     "output_type": "execute_result"
    }
   ],
   "source": []
  },
  {
   "cell_type": "code",
   "execution_count": 69,
   "metadata": {},
   "outputs": [
    {
     "data": {
      "text/plain": [
       "'food'"
      ]
     },
     "execution_count": 69,
     "metadata": {},
     "output_type": "execute_result"
    }
   ],
   "source": []
  },
  {
   "cell_type": "code",
   "execution_count": 70,
   "metadata": {},
   "outputs": [
    {
     "data": {
      "text/plain": [
       "'school'"
      ]
     },
     "execution_count": 70,
     "metadata": {},
     "output_type": "execute_result"
    }
   ],
   "source": [
    "school.na"
   ]
  },
  {
   "cell_type": "code",
   "execution_count": 72,
   "metadata": {},
   "outputs": [
    {
     "data": {
      "text/plain": [
       "2"
      ]
     },
     "execution_count": 72,
     "metadata": {},
     "output_type": "execute_result"
    }
   ],
   "source": []
  },
  {
   "cell_type": "code",
   "execution_count": 158,
   "metadata": {},
   "outputs": [
    {
     "name": "stdout",
     "output_type": "stream",
     "text": [
      "test 1     10\n",
      "test withdraw 1     -5\n",
      "Transfer to food     -2\n",
      "\n",
      "*************food*************\n",
      "test 1     10\n",
      "test withdraw 1     -5\n",
      "Transfer to food     -2\n",
      "Total: 3\n"
     ]
    }
   ],
   "source": []
  },
  {
   "cell_type": "code",
   "execution_count": null,
   "metadata": {},
   "outputs": [],
   "source": []
  }
 ],
 "metadata": {
  "kernelspec": {
   "display_name": "Python 3",
   "language": "python",
   "name": "python3"
  },
  "language_info": {
   "codemirror_mode": {
    "name": "ipython",
    "version": 3
   },
   "file_extension": ".py",
   "mimetype": "text/x-python",
   "name": "python",
   "nbconvert_exporter": "python",
   "pygments_lexer": "ipython3",
   "version": "3.8.5"
  }
 },
 "nbformat": 4,
 "nbformat_minor": 4
}
